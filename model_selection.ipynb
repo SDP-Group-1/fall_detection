{
 "cells": [
  {
   "cell_type": "code",
   "execution_count": 3,
   "metadata": {},
   "outputs": [],
   "source": [
    "import numpy as np\n",
    "import pandas as pd\n",
    "import sys\n",
    "import os"
   ]
  },
  {
   "cell_type": "code",
   "execution_count": 4,
   "metadata": {},
   "outputs": [
    {
     "name": "stdout",
     "output_type": "stream",
     "text": [
      "            max_smv       min_smv      duration         label\n",
      "count  56917.000000  56917.000000  56917.000000  56917.000000\n",
      "mean      17.747558      5.445815     -7.426305      0.032855\n",
      "std        6.408102      3.562756    347.463460      0.178258\n",
      "min        9.547117      0.030987   -995.000000      0.000000\n",
      "25%       10.075159      2.505617   -205.000000      0.000000\n",
      "50%       19.697805      4.566719    -14.000000      0.000000\n",
      "75%       23.092690      9.627163    181.000000      0.000000\n",
      "max       32.885551     10.015043    996.000000      1.000000\n",
      "Number of fall-samples: 1870\n",
      "Number of normal-samples: 55047\n",
      "Falls / Normal = 0.0339709702617763\n"
     ]
    }
   ],
   "source": [
    "# Info of original dataset\n",
    "FilePath = os.path.join(os.getcwd(), 'Windows_Data/dataset.csv')\n",
    "dataset = pd.read_csv(FilePath)\n",
    "print(dataset.describe())\n",
    "fall_set = dataset.loc[dataset['label'] == 1]\n",
    "normal_set = dataset.loc[dataset['label'] == 0]\n",
    "print('Number of fall-samples: {}'.format(fall_set.shape[0]))\n",
    "print('Number of normal-samples: {}'.format(normal_set.shape[0]))\n",
    "print('Falls / Normal = {}'.format(fall_set.shape[0] / normal_set.shape[0]))"
   ]
  },
  {
   "cell_type": "code",
   "execution_count": 5,
   "metadata": {},
   "outputs": [
    {
     "name": "stdout",
     "output_type": "stream",
     "text": [
      "            max_smv       min_smv      duration         label\n",
      "count  18071.000000  18071.000000  18071.000000  18071.000000\n",
      "mean      17.107593      5.734681    -11.069780      0.007028\n",
      "std        6.298308      3.560391    446.908952      0.083539\n",
      "min        9.547117      0.030987   -995.000000      0.000000\n",
      "25%       10.026761      2.760565   -270.000000      0.000000\n",
      "50%       18.882865      5.023431    -14.000000      0.000000\n",
      "75%       22.572992      9.689584    242.000000      0.000000\n",
      "max       32.505287     10.014622    996.000000      1.000000\n",
      "Number of fall-samples (without duplicates): 127\n",
      "Number of normal-samples (without duplicates): 17944\n",
      "Falls / Normal = 0.0070775746767721805 (without duplicates)\n"
     ]
    }
   ],
   "source": [
    "dataset_no_dups = dataset.drop_duplicates(subset=None, keep=False)\n",
    "print(dataset_no_dups.describe())\n",
    "fall_set_np = dataset_no_dups.loc[dataset['label'] == 1]\n",
    "normal_set_np = dataset_no_dups.loc[dataset['label'] == 0]\n",
    "print('Number of fall-samples (without duplicates): {}'.format(fall_set_np.shape[0]))\n",
    "print('Number of normal-samples (without duplicates): {}'.format(normal_set_np.shape[0]))\n",
    "print('Falls / Normal = {} (without duplicates)'.format(fall_set_np.shape[0] / normal_set_np.shape[0]))"
   ]
  },
  {
   "cell_type": "code",
   "execution_count": 6,
   "metadata": {},
   "outputs": [
    {
     "data": {
      "text/html": [
       "<div>\n",
       "<style scoped>\n",
       "    .dataframe tbody tr th:only-of-type {\n",
       "        vertical-align: middle;\n",
       "    }\n",
       "\n",
       "    .dataframe tbody tr th {\n",
       "        vertical-align: top;\n",
       "    }\n",
       "\n",
       "    .dataframe thead th {\n",
       "        text-align: right;\n",
       "    }\n",
       "</style>\n",
       "<table border=\"1\" class=\"dataframe\">\n",
       "  <thead>\n",
       "    <tr style=\"text-align: right;\">\n",
       "      <th></th>\n",
       "      <th>max_smv</th>\n",
       "      <th>min_smv</th>\n",
       "      <th>duration</th>\n",
       "      <th>label</th>\n",
       "    </tr>\n",
       "  </thead>\n",
       "  <tbody>\n",
       "    <tr>\n",
       "      <th>count</th>\n",
       "      <td>127.000000</td>\n",
       "      <td>127.000000</td>\n",
       "      <td>127.000000</td>\n",
       "      <td>127.0</td>\n",
       "    </tr>\n",
       "    <tr>\n",
       "      <th>mean</th>\n",
       "      <td>25.221958</td>\n",
       "      <td>4.570352</td>\n",
       "      <td>0.031496</td>\n",
       "      <td>1.0</td>\n",
       "    </tr>\n",
       "    <tr>\n",
       "      <th>std</th>\n",
       "      <td>2.918982</td>\n",
       "      <td>1.621344</td>\n",
       "      <td>90.295453</td>\n",
       "      <td>0.0</td>\n",
       "    </tr>\n",
       "    <tr>\n",
       "      <th>min</th>\n",
       "      <td>17.128696</td>\n",
       "      <td>0.838504</td>\n",
       "      <td>-262.000000</td>\n",
       "      <td>1.0</td>\n",
       "    </tr>\n",
       "    <tr>\n",
       "      <th>25%</th>\n",
       "      <td>23.068876</td>\n",
       "      <td>3.245285</td>\n",
       "      <td>-48.500000</td>\n",
       "      <td>1.0</td>\n",
       "    </tr>\n",
       "    <tr>\n",
       "      <th>50%</th>\n",
       "      <td>25.201343</td>\n",
       "      <td>4.558423</td>\n",
       "      <td>17.000000</td>\n",
       "      <td>1.0</td>\n",
       "    </tr>\n",
       "    <tr>\n",
       "      <th>75%</th>\n",
       "      <td>27.438482</td>\n",
       "      <td>5.794097</td>\n",
       "      <td>49.000000</td>\n",
       "      <td>1.0</td>\n",
       "    </tr>\n",
       "    <tr>\n",
       "      <th>max</th>\n",
       "      <td>32.505287</td>\n",
       "      <td>7.880321</td>\n",
       "      <td>432.000000</td>\n",
       "      <td>1.0</td>\n",
       "    </tr>\n",
       "  </tbody>\n",
       "</table>\n",
       "</div>"
      ],
      "text/plain": [
       "          max_smv     min_smv    duration  label\n",
       "count  127.000000  127.000000  127.000000  127.0\n",
       "mean    25.221958    4.570352    0.031496    1.0\n",
       "std      2.918982    1.621344   90.295453    0.0\n",
       "min     17.128696    0.838504 -262.000000    1.0\n",
       "25%     23.068876    3.245285  -48.500000    1.0\n",
       "50%     25.201343    4.558423   17.000000    1.0\n",
       "75%     27.438482    5.794097   49.000000    1.0\n",
       "max     32.505287    7.880321  432.000000    1.0"
      ]
     },
     "execution_count": 6,
     "metadata": {},
     "output_type": "execute_result"
    }
   ],
   "source": [
    "fall_set_np.describe()"
   ]
  },
  {
   "cell_type": "code",
   "execution_count": 7,
   "metadata": {},
   "outputs": [
    {
     "data": {
      "text/html": [
       "<div>\n",
       "<style scoped>\n",
       "    .dataframe tbody tr th:only-of-type {\n",
       "        vertical-align: middle;\n",
       "    }\n",
       "\n",
       "    .dataframe tbody tr th {\n",
       "        vertical-align: top;\n",
       "    }\n",
       "\n",
       "    .dataframe thead th {\n",
       "        text-align: right;\n",
       "    }\n",
       "</style>\n",
       "<table border=\"1\" class=\"dataframe\">\n",
       "  <thead>\n",
       "    <tr style=\"text-align: right;\">\n",
       "      <th></th>\n",
       "      <th>max_smv</th>\n",
       "      <th>min_smv</th>\n",
       "      <th>duration</th>\n",
       "      <th>label</th>\n",
       "    </tr>\n",
       "  </thead>\n",
       "  <tbody>\n",
       "    <tr>\n",
       "      <th>count</th>\n",
       "      <td>17944.000000</td>\n",
       "      <td>17944.000000</td>\n",
       "      <td>17944.000000</td>\n",
       "      <td>17944.0</td>\n",
       "    </tr>\n",
       "    <tr>\n",
       "      <th>mean</th>\n",
       "      <td>17.050163</td>\n",
       "      <td>5.742922</td>\n",
       "      <td>-11.148350</td>\n",
       "      <td>0.0</td>\n",
       "    </tr>\n",
       "    <tr>\n",
       "      <th>std</th>\n",
       "      <td>6.278558</td>\n",
       "      <td>3.569031</td>\n",
       "      <td>448.422953</td>\n",
       "      <td>0.0</td>\n",
       "    </tr>\n",
       "    <tr>\n",
       "      <th>min</th>\n",
       "      <td>9.547117</td>\n",
       "      <td>0.030987</td>\n",
       "      <td>-995.000000</td>\n",
       "      <td>0.0</td>\n",
       "    </tr>\n",
       "    <tr>\n",
       "      <th>25%</th>\n",
       "      <td>10.025897</td>\n",
       "      <td>2.751745</td>\n",
       "      <td>-273.000000</td>\n",
       "      <td>0.0</td>\n",
       "    </tr>\n",
       "    <tr>\n",
       "      <th>50%</th>\n",
       "      <td>18.818034</td>\n",
       "      <td>5.034214</td>\n",
       "      <td>-14.000000</td>\n",
       "      <td>0.0</td>\n",
       "    </tr>\n",
       "    <tr>\n",
       "      <th>75%</th>\n",
       "      <td>22.518249</td>\n",
       "      <td>9.692700</td>\n",
       "      <td>245.000000</td>\n",
       "      <td>0.0</td>\n",
       "    </tr>\n",
       "    <tr>\n",
       "      <th>max</th>\n",
       "      <td>32.430852</td>\n",
       "      <td>10.014622</td>\n",
       "      <td>996.000000</td>\n",
       "      <td>0.0</td>\n",
       "    </tr>\n",
       "  </tbody>\n",
       "</table>\n",
       "</div>"
      ],
      "text/plain": [
       "            max_smv       min_smv      duration    label\n",
       "count  17944.000000  17944.000000  17944.000000  17944.0\n",
       "mean      17.050163      5.742922    -11.148350      0.0\n",
       "std        6.278558      3.569031    448.422953      0.0\n",
       "min        9.547117      0.030987   -995.000000      0.0\n",
       "25%       10.025897      2.751745   -273.000000      0.0\n",
       "50%       18.818034      5.034214    -14.000000      0.0\n",
       "75%       22.518249      9.692700    245.000000      0.0\n",
       "max       32.430852     10.014622    996.000000      0.0"
      ]
     },
     "execution_count": 7,
     "metadata": {},
     "output_type": "execute_result"
    }
   ],
   "source": [
    "normal_set_np.describe()"
   ]
  },
  {
   "cell_type": "code",
   "execution_count": 43,
   "metadata": {},
   "outputs": [
    {
     "name": "stdout",
     "output_type": "stream",
     "text": [
      "          max_smv     min_smv    duration  label\n",
      "count  127.000000  127.000000  127.000000  127.0\n",
      "mean    25.221958    4.570352    0.031496    1.0\n",
      "std      2.918982    1.621344   90.295453    0.0\n",
      "min     17.128696    0.838504 -262.000000    1.0\n",
      "25%     23.068876    3.245285  -48.500000    1.0\n",
      "50%     25.201343    4.558423   17.000000    1.0\n",
      "75%     27.438482    5.794097   49.000000    1.0\n",
      "max     32.505287    7.880321  432.000000    1.0\n",
      "            max_smv       min_smv      duration    label\n",
      "count  10013.000000  10013.000000  10013.000000  10013.0\n",
      "mean      22.275489      2.864994    -17.926396      0.0\n",
      "std        2.709789      1.802601    477.441668      0.0\n",
      "min       17.000608      0.030987   -993.000000      0.0\n",
      "25%       20.264987      1.092221   -365.000000      0.0\n",
      "50%       22.135603      3.060025    -20.000000      0.0\n",
      "75%       24.083629      4.234462    293.000000      0.0\n",
      "max       32.430852      9.237574    989.000000      0.0\n"
     ]
    }
   ],
   "source": [
    "TrnSet = dataset_no_dups.drop(dataset_no_dups[(dataset_no_dups.label == 0) & (dataset_no_dups.max_smv < 17)].index)\n",
    "print(TrnSet.loc[dataset['label'] == 1].describe())\n",
    "print(TrnSet.loc[dataset['label'] == 0].describe())\n",
    "X = TrnSet[['max_smv', 'min_smv', 'duration']].values\n",
    "y = TrnSet[['label']].values"
   ]
  },
  {
   "cell_type": "code",
   "execution_count": 9,
   "metadata": {},
   "outputs": [],
   "source": [
    "# 5-fold cross validation (GridsearchCV) & apply undersampling and oversampling on each fold\n",
    "from imblearn.over_sampling import SMOTE\n",
    "from imblearn.under_sampling import RandomUnderSampler\n",
    "\n",
    "from sklearn.model_selection import GridSearchCV\n",
    "from imblearn.pipeline import Pipeline\n",
    "\n",
    "from sklearn.preprocessing import StandardScaler\n",
    "from sklearn.svm import SVC\n",
    "from sklearn.ensemble import RandomForestClassifier\n",
    "from sklearn.linear_model import LogisticRegression"
   ]
  },
  {
   "cell_type": "code",
   "execution_count": 19,
   "metadata": {},
   "outputs": [],
   "source": [
    "def imb_pipeline(clf_name, clf, X, y, params):\n",
    "    \n",
    "    over = SMOTE(sampling_strategy=0.1)\n",
    "    under = RandomUnderSampler(sampling_strategy=0.5)\n",
    "    \n",
    "    if clf_name == 'LinearSVC':\n",
    "        normalize = StandardScaler()\n",
    "        steps = [\n",
    "        ('normalization', normalize),\n",
    "        ('oversampling', over),\n",
    "        ('undersampling', under),\n",
    "        ('classification', clf)]\n",
    "    else:\n",
    "        steps = [\n",
    "        ('oversampling', over),\n",
    "        ('undersampling', under),\n",
    "        ('classification', clf)]\n",
    "    \n",
    "    model = Pipeline(steps=steps)\n",
    "    \n",
    "    score={'AUC':'roc_auc', \n",
    "           'RECALL':'recall',\n",
    "           'PRECISION':'precision',\n",
    "           'F1':'f1'}\n",
    "    \n",
    "    gcv = GridSearchCV(estimator=model, param_grid=params, cv=5, scoring=score, n_jobs=12, refit='F1',\n",
    "                       return_train_score=True)\n",
    "    gcv.fit(X, y)\n",
    "\n",
    "    return gcv\n",
    "\n"
   ]
  },
  {
   "cell_type": "code",
   "execution_count": 29,
   "metadata": {},
   "outputs": [],
   "source": [
    "setting_LogisticRegression = {'classification__penalty': ('l1', 'l2'), \n",
    "                              'classification__C': (0.001, 0.01, 0.1, 1.0, 10, 100)}\n",
    "\n",
    "setting_SVC = {'classification__C': [0.01, 0.1, 1, 10, 100], \n",
    "               'classification__gamma': [1e-1, 1e-2, 1e-3, 1e-4]}\n",
    "\n",
    "setting_RandomForest = {'classification__n_estimators': (100, 100, 200, 300, 400, 500), \n",
    "                        'classification__max_depth': (10, 20, 30, 40, 50, 60, 70, 80, None),\n",
    "                        'classification__min_samples_leaf':[1, 2, 4],\n",
    "                        'classification__min_samples_split':[2, 5, 10]}\n",
    "\n",
    "params = [setting_LogisticRegression, setting_SVC, setting_RandomForest]"
   ]
  },
  {
   "cell_type": "code",
   "execution_count": 12,
   "metadata": {},
   "outputs": [],
   "source": [
    "classifiers = [\n",
    " ('Logistic Regression', LogisticRegression(random_state=0)),\n",
    " ('SVC', SVC(random_state=0)),\n",
    " ('Random Forst',RandomForestClassifier(bootstrap=True,random_state=0))]\n"
   ]
  },
  {
   "cell_type": "code",
   "execution_count": 42,
   "metadata": {},
   "outputs": [
    {
     "name": "stdout",
     "output_type": "stream",
     "text": [
      "Working on Logistic Regression...\n"
     ]
    },
    {
     "name": "stderr",
     "output_type": "stream",
     "text": [
      "C:\\ProgramData\\Anaconda3\\envs\\oli\\lib\\site-packages\\sklearn\\model_selection\\_search.py:918: UserWarning: One or more of the test scores are non-finite: [       nan 0.86923327        nan 0.88882937        nan 0.89213421\n",
      "        nan 0.89503283        nan 0.89071903        nan 0.89401569]\n",
      "  warnings.warn(\n",
      "C:\\ProgramData\\Anaconda3\\envs\\oli\\lib\\site-packages\\sklearn\\model_selection\\_search.py:918: UserWarning: One or more of the train scores are non-finite: [       nan 0.89432756        nan 0.90048827        nan 0.90136225\n",
      "        nan 0.90127083        nan 0.90124749        nan 0.9012374 ]\n",
      "  warnings.warn(\n",
      "C:\\ProgramData\\Anaconda3\\envs\\oli\\lib\\site-packages\\sklearn\\model_selection\\_search.py:918: UserWarning: One or more of the test scores are non-finite: [       nan 0.52892308        nan 0.63046154        nan 0.64676923\n",
      "        nan 0.66215385        nan 0.65415385        nan 0.63076923]\n",
      "  warnings.warn(\n",
      "C:\\ProgramData\\Anaconda3\\envs\\oli\\lib\\site-packages\\sklearn\\model_selection\\_search.py:918: UserWarning: One or more of the train scores are non-finite: [       nan 0.56099786        nan 0.63975927        nan 0.65548437\n",
      "        nan 0.66334692        nan 0.66338575        nan 0.65542613]\n",
      "  warnings.warn(\n",
      "C:\\ProgramData\\Anaconda3\\envs\\oli\\lib\\site-packages\\sklearn\\model_selection\\_search.py:918: UserWarning: One or more of the test scores are non-finite: [       nan 0.12373461        nan 0.09136208        nan 0.08267469\n",
      "        nan 0.08795939        nan 0.08184611        nan 0.08564773]\n",
      "  warnings.warn(\n",
      "C:\\ProgramData\\Anaconda3\\envs\\oli\\lib\\site-packages\\sklearn\\model_selection\\_search.py:918: UserWarning: One or more of the train scores are non-finite: [       nan 0.11563728        nan 0.09456776        nan 0.08665141\n",
      "        nan 0.08674725        nan 0.08702412        nan 0.08799876]\n",
      "  warnings.warn(\n",
      "C:\\ProgramData\\Anaconda3\\envs\\oli\\lib\\site-packages\\sklearn\\model_selection\\_search.py:918: UserWarning: One or more of the test scores are non-finite: [       nan 0.19409962        nan 0.15763565        nan 0.14419775\n",
      "        nan 0.15205213        nan 0.14357098        nan 0.1478634 ]\n",
      "  warnings.warn(\n",
      "C:\\ProgramData\\Anaconda3\\envs\\oli\\lib\\site-packages\\sklearn\\model_selection\\_search.py:918: UserWarning: One or more of the train scores are non-finite: [       nan 0.19104415        nan 0.16446197        nan 0.15297081\n",
      "        nan 0.15335097        nan 0.15377182        nan 0.15501858]\n",
      "  warnings.warn(\n"
     ]
    },
    {
     "name": "stdout",
     "output_type": "stream",
     "text": [
      "Best parameter for Logistic Regression is {'classification__C': 0.001, 'classification__penalty': 'l2'}\n",
      "Best `F1` for Logistic Regression is 0.19409962425395033\n",
      "----------------------------------------------------------------------------------------------------\n",
      "\n",
      "\n",
      "Working on SVC...\n",
      "Best parameter for SVC is {'classification__C': 100, 'classification__gamma': 0.0001}\n",
      "Best `F1` for SVC is 0.23963170898556063\n",
      "----------------------------------------------------------------------------------------------------\n",
      "\n",
      "\n",
      "Working on Random Forst...\n",
      "Best parameter for Random Forst is {'classification__max_depth': 60, 'classification__min_samples_leaf': 2, 'classification__min_samples_split': 5, 'classification__n_estimators': 100}\n",
      "Best `F1` for Random Forst is 0.334628873535307\n",
      "----------------------------------------------------------------------------------------------------\n",
      "\n",
      "\n"
     ]
    }
   ],
   "source": [
    "for param, classifier in zip(params, classifiers):\n",
    "    print(\"Working on {}...\".format(classifier[0]))\n",
    "    clf = imb_pipeline(classifier[0], classifier[1], X, y, param) \n",
    "    print(\"Best parameter for {} is {}\".format(classifier[0], clf.best_params_))\n",
    "    print(\"Best `F1` for {} is {}\".format(classifier[0], clf.best_score_))\n",
    "    print('-'*100)\n",
    "    print('\\n')"
   ]
  },
  {
   "cell_type": "code",
   "execution_count": null,
   "metadata": {},
   "outputs": [],
   "source": []
  }
 ],
 "metadata": {
  "kernelspec": {
   "display_name": "Python 3",
   "language": "python",
   "name": "python3"
  },
  "language_info": {
   "codemirror_mode": {
    "name": "ipython",
    "version": 3
   },
   "file_extension": ".py",
   "mimetype": "text/x-python",
   "name": "python",
   "nbconvert_exporter": "python",
   "pygments_lexer": "ipython3",
   "version": "3.8.0"
  }
 },
 "nbformat": 4,
 "nbformat_minor": 4
}
